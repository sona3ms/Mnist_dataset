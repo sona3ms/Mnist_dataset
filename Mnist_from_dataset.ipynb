{
  "nbformat": 4,
  "nbformat_minor": 0,
  "metadata": {
    "colab": {
      "provenance": [],
      "authorship_tag": "ABX9TyMt6AKBUuGkiH3Al0ZJimdP",
      "include_colab_link": true
    },
    "kernelspec": {
      "name": "python3",
      "display_name": "Python 3"
    },
    "language_info": {
      "name": "python"
    }
  },
  "cells": [
    {
      "cell_type": "markdown",
      "metadata": {
        "id": "view-in-github",
        "colab_type": "text"
      },
      "source": [
        "<a href=\"https://colab.research.google.com/github/sona3ms/Mnist_dataset/blob/main/Mnist_from_dataset.ipynb\" target=\"_parent\"><img src=\"https://colab.research.google.com/assets/colab-badge.svg\" alt=\"Open In Colab\"/></a>"
      ]
    },
    {
      "cell_type": "markdown",
      "source": [
        "##Neural Network From Scratch"
      ],
      "metadata": {
        "id": "zABuzQkRF7XZ"
      }
    },
    {
      "cell_type": "code",
      "source": [
        "import tensorflow as tf\n",
        "import sys\n",
        "\n",
        "mnist = tf.keras.datasets.mnist\n",
        "\n",
        "(x_train, y_train), (x_test, y_test) = mnist.load_data()\n",
        "x_train, x_test = x_train / 255.0, x_test / 255.0\n",
        "y_train = tf.keras.utils.to_categorical(y_train)\n",
        "y_test = tf.keras.utils.to_categorical(y_test)\n",
        "x_train = x_train.reshape(\n",
        "    x_train.shape[0], x_train.shape[1], x_train.shape[2], 1\n",
        ")\n",
        "x_test = x_test.reshape(\n",
        "    x_test.shape[0], x_test.shape[1], x_test.shape[2], 1\n",
        ")\n",
        "\n",
        "model = tf.keras.models.Sequential([\n",
        "    tf.keras.layers.Conv2D(\n",
        "        32, (3, 3), activation=\"relu\", input_shape=(28, 28, 1)\n",
        "    ),\n",
        "    tf.keras.layers.MaxPooling2D(pool_size=(2, 2)),\n",
        "    tf.keras.layers.Flatten(),\n",
        "    tf.keras.layers.Dense(128, activation=\"relu\"),\n",
        "    tf.keras.layers.Dropout(0.5),\n",
        "    tf.keras.layers.Dense(10, activation=\"softmax\")\n",
        "])\n",
        "\n",
        "model.compile(\n",
        "    optimizer=\"adam\",\n",
        "    loss=\"categorical_crossentropy\",\n",
        "    metrics=[\"accuracy\"]\n",
        ")\n",
        "\n",
        "model.fit(x_train, y_train, epochs=10)\n",
        "\n",
        "model.evaluate(x_test, y_test, verbose=2)\n",
        "\n",
        "if len(sys.argv) == 2:\n",
        "    filename = sys.argv[1]\n",
        "    model.save(filename)\n",
        "    print(f\"Model saved to {filename}\")\n"
      ],
      "metadata": {
        "colab": {
          "base_uri": "https://localhost:8080/"
        },
        "id": "YSQpZSS7Szwt",
        "outputId": "a4ae9a01-7d32-4884-880f-b63e22f966a9"
      },
      "execution_count": null,
      "outputs": [
        {
          "output_type": "stream",
          "name": "stdout",
          "text": [
            "Epoch 1/10\n",
            "1875/1875 [==============================] - 43s 22ms/step - loss: 0.2382 - accuracy: 0.9284\n",
            "Epoch 2/10\n",
            "1875/1875 [==============================] - 39s 21ms/step - loss: 0.0982 - accuracy: 0.9702\n",
            "Epoch 3/10\n",
            "1875/1875 [==============================] - 43s 23ms/step - loss: 0.0740 - accuracy: 0.9773\n",
            "Epoch 4/10\n",
            "1875/1875 [==============================] - 42s 22ms/step - loss: 0.0597 - accuracy: 0.9817\n",
            "Epoch 5/10\n",
            "1875/1875 [==============================] - 40s 21ms/step - loss: 0.0508 - accuracy: 0.9834\n",
            "Epoch 6/10\n",
            "1875/1875 [==============================] - 39s 21ms/step - loss: 0.0424 - accuracy: 0.9868\n",
            "Epoch 7/10\n",
            "1875/1875 [==============================] - 40s 21ms/step - loss: 0.0369 - accuracy: 0.9881\n",
            "Epoch 8/10\n",
            "1875/1875 [==============================] - 38s 20ms/step - loss: 0.0321 - accuracy: 0.9894\n",
            "Epoch 9/10\n",
            "1875/1875 [==============================] - 40s 21ms/step - loss: 0.0286 - accuracy: 0.9905\n",
            "Epoch 10/10\n",
            "1875/1875 [==============================] - 44s 23ms/step - loss: 0.0252 - accuracy: 0.9915\n",
            "313/313 - 2s - loss: 0.0390 - accuracy: 0.9885 - 2s/epoch - 5ms/step\n"
          ]
        }
      ]
    },
    {
      "cell_type": "code",
      "source": [],
      "metadata": {
        "id": "AznKF6qwS_cn"
      },
      "execution_count": null,
      "outputs": []
    }
  ]
}